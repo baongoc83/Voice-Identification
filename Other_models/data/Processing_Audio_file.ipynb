{
 "cells": [
  {
   "cell_type": "markdown",
   "metadata": {},
   "source": [
    "An audio transcoding is the conversion of one file format to another. The most common audio coding formats are:\n",
    "\n",
    "- MP3: high compression, signal loss\n",
    "- WAV: larger file sizes\n",
    "- AAC: proprietary format, better than MP3\n",
    "- FLAC: small size, little loss, but must be converted before analysis\n",
    "- OPUS: human voice range files, losses can be problematic\n",
    "\n",
    "1 minute of .WAV file is 3.5MB. Once converted to FLAC, it only takes 1.5MB. This is really useful for storage.\n",
    "\n",
    "Audio channels is the number of audio inputs and outputs of a recorded audio signal:\n",
    "- mono: 1 channel, 1 microphone, 1 output on speakers\n",
    "- stereo: 2 channels, 2 microphones (left and right), 2 speakers"
   ]
  },
  {
   "cell_type": "markdown",
   "metadata": {},
   "source": [
    "# Basic audio processing in Python"
   ]
  },
  {
   "cell_type": "markdown",
   "metadata": {},
   "source": [
    "## I. Read Files\n",
    "- Pydub: Simple features to manipulate file"
   ]
  },
  {
   "cell_type": "code",
   "execution_count": 37,
   "metadata": {
    "scrolled": false
   },
   "outputs": [
    {
     "name": "stdout",
     "output_type": "stream",
     "text": [
      "Collecting pyttsx3\n",
      "  Downloading pyttsx3-2.90-py3-none-any.whl (39 kB)\n",
      "Collecting pyobjc>=2.4; platform_system == \"Darwin\"\n",
      "  Downloading pyobjc-7.3-py3-none-any.whl (3.0 kB)\n",
      "Collecting pyobjc-framework-AppleScriptKit==7.3\n",
      "  Downloading pyobjc_framework_AppleScriptKit-7.3-py2.py3-none-any.whl (3.8 kB)\n",
      "Collecting pyobjc-framework-LatentSemanticMapping==7.3\n",
      "  Downloading pyobjc_framework_LatentSemanticMapping-7.3-py2.py3-none-any.whl (4.9 kB)\n",
      "Collecting pyobjc-framework-MLCompute==7.3; platform_release >= \"20.0\"\n",
      "  Downloading pyobjc_framework_MLCompute-7.3-py2.py3-none-any.whl (5.7 kB)\n",
      "Collecting pyobjc-framework-MetalKit==7.3; platform_release >= \"15.0\"\n",
      "  Downloading pyobjc_framework_MetalKit-7.3-cp36-abi3-macosx_10_9_x86_64.whl (6.6 kB)\n",
      "Collecting pyobjc-framework-ModelIO==7.3; platform_release >= \"15.0\"\n",
      "  Downloading pyobjc_framework_ModelIO-7.3-cp36-abi3-macosx_10_9_x86_64.whl (13 kB)\n",
      "Collecting pyobjc-framework-MediaPlayer==7.3; platform_release >= \"16.0\"\n",
      "  Downloading pyobjc_framework_MediaPlayer-7.3-py2.py3-none-any.whl (5.7 kB)\n",
      "Collecting pyobjc-framework-MetalPerformanceShadersGraph==7.3; platform_release >= \"20.0\"\n",
      "  Downloading pyobjc_framework_MetalPerformanceShadersGraph-7.3-py2.py3-none-any.whl (3.6 kB)\n",
      "Collecting pyobjc-framework-LinkPresentation==7.3; platform_release >= \"19.0\"\n",
      "  Downloading pyobjc_framework_LinkPresentation-7.3-py2.py3-none-any.whl (3.2 kB)\n",
      "Collecting pyobjc-framework-LocalAuthentication==7.3; platform_release >= \"14.0\"\n",
      "  Downloading pyobjc_framework_LocalAuthentication-7.3-py2.py3-none-any.whl (4.9 kB)\n",
      "Collecting pyobjc-framework-PencilKit==7.3; platform_release >= \"19.0\"\n",
      "  Downloading pyobjc_framework_PencilKit-7.3-py2.py3-none-any.whl (3.1 kB)\n",
      "Collecting pyobjc-framework-SpriteKit==7.3; platform_release >= \"13.0\"\n",
      "  Downloading pyobjc_framework_SpriteKit-7.3-cp36-abi3-macosx_10_9_x86_64.whl (11 kB)\n",
      "Collecting pyobjc-framework-Contacts==7.3; platform_release >= \"15.0\"\n",
      "  Downloading pyobjc_framework_Contacts-7.3-cp36-abi3-macosx_10_9_x86_64.whl (9.2 kB)\n",
      "Collecting pyobjc-framework-DiscRecordingUI==7.3\n",
      "  Downloading pyobjc_framework_DiscRecordingUI-7.3-py2.py3-none-any.whl (4.2 kB)\n",
      "Collecting pyobjc-framework-AVKit==7.3; platform_release >= \"13.0\"\n",
      "  Downloading pyobjc_framework_AVKit-7.3-cp36-abi3-macosx_10_9_x86_64.whl (7.4 kB)\n",
      "Collecting pyobjc-framework-StoreKit==7.3; platform_release >= \"11.0\"\n",
      "  Downloading pyobjc_framework_StoreKit-7.3-cp36-abi3-macosx_10_9_x86_64.whl (8.5 kB)\n",
      "Collecting pyobjc-framework-ApplicationServices==7.3\n",
      "  Downloading pyobjc_framework_ApplicationServices-7.3-cp38-cp38-macosx_10_9_x86_64.whl (22 kB)\n",
      "Collecting pyobjc-framework-Social==7.3; platform_release >= \"12.0\"\n",
      "  Downloading pyobjc_framework_Social-7.3-py2.py3-none-any.whl (3.9 kB)\n",
      "Collecting pyobjc-framework-VideoToolbox==7.3; platform_release >= \"12.0\"\n",
      "  Downloading pyobjc_framework_VideoToolbox-7.3-cp36-abi3-macosx_10_9_x86_64.whl (9.5 kB)\n",
      "Collecting pyobjc-framework-CalendarStore==7.3; platform_release >= \"9.0\"\n",
      "  Downloading pyobjc_framework_CalendarStore-7.3-py2.py3-none-any.whl (4.6 kB)\n",
      "Collecting pyobjc-framework-AddressBook==7.3\n",
      "  Downloading pyobjc_framework_AddressBook-7.3-cp36-abi3-macosx_10_9_x86_64.whl (10 kB)\n",
      "Collecting pyobjc-framework-NaturalLanguage==7.3; platform_release >= \"18.0\"\n",
      "  Downloading pyobjc_framework_NaturalLanguage-7.3-py2.py3-none-any.whl (4.2 kB)\n",
      "Collecting pyobjc-framework-MediaAccessibility==7.3; platform_release >= \"13.0\"\n",
      "  Downloading pyobjc_framework_MediaAccessibility-7.3-py2.py3-none-any.whl (3.8 kB)\n",
      "Collecting pyobjc-framework-ImageCaptureCore==7.3; platform_release >= \"10.0\"\n",
      "  Downloading pyobjc_framework_ImageCaptureCore-7.3-cp36-abi3-macosx_10_9_x86_64.whl (12 kB)\n",
      "Collecting pyobjc-framework-SoundAnalysis==7.3; platform_release >= \"19.0\"\n",
      "  Downloading pyobjc_framework_SoundAnalysis-7.3-py2.py3-none-any.whl (3.3 kB)\n",
      "Collecting pyobjc-framework-Network==7.3; platform_release >= \"18.0\"\n",
      "  Downloading pyobjc_framework_Network-7.3-cp36-abi3-macosx_10_9_x86_64.whl (13 kB)\n",
      "Collecting pyobjc-framework-FileProvider==7.3; platform_release >= \"19.0\"\n",
      "  Downloading pyobjc_framework_FileProvider-7.3-cp38-cp38-macosx_10_9_x86_64.whl (10 kB)\n",
      "Collecting pyobjc-framework-ExternalAccessory==7.3; platform_release >= \"17.0\"\n",
      "  Downloading pyobjc_framework_ExternalAccessory-7.3-cp36-abi3-macosx_10_9_x86_64.whl (6.7 kB)\n",
      "Collecting pyobjc-framework-Quartz==7.3\n",
      "  Downloading pyobjc_framework_Quartz-7.3-cp38-cp38-macosx_10_9_x86_64.whl (143 kB)\n",
      "\u001b[K     |████████████████████████████████| 143 kB 2.1 MB/s eta 0:00:01\n",
      "\u001b[?25hCollecting pyobjc-framework-OSLog==7.3; platform_release >= \"19.0\"\n",
      "  Downloading pyobjc_framework_OSLog-7.3-cp36-abi3-macosx_10_9_x86_64.whl (5.9 kB)\n",
      "Collecting pyobjc-framework-GameplayKit==7.3; platform_release >= \"15.0\"\n",
      "  Downloading pyobjc_framework_GameplayKit-7.3-cp36-abi3-macosx_10_9_x86_64.whl (8.5 kB)\n",
      "Collecting pyobjc-framework-KernelManagement==7.3; platform_release >= \"20.0\"\n",
      "  Downloading pyobjc_framework_KernelManagement-7.3-py2.py3-none-any.whl (3.1 kB)\n",
      "Collecting pyobjc-framework-MapKit==7.3; platform_release >= \"13.0\"\n",
      "  Downloading pyobjc_framework_MapKit-7.3-cp36-abi3-macosx_10_9_x86_64.whl (14 kB)\n",
      "Collecting pyobjc-framework-CoreMIDI==7.3\n",
      "  Downloading pyobjc_framework_CoreMIDI-7.3-cp36-abi3-macosx_10_9_x86_64.whl (9.4 kB)\n",
      "Collecting pyobjc-framework-Cocoa==7.3\n",
      "  Downloading pyobjc_framework_Cocoa-7.3-cp38-cp38-macosx_10_9_x86_64.whl (273 kB)\n",
      "\u001b[K     |████████████████████████████████| 273 kB 8.1 MB/s eta 0:00:01\n",
      "\u001b[?25hCollecting pyobjc-framework-InstantMessage==7.3; platform_release >= \"9.0\"\n",
      "  Downloading pyobjc_framework_InstantMessage-7.3-py2.py3-none-any.whl (4.9 kB)\n",
      "Collecting pyobjc-framework-CoreWLAN==7.3; platform_release >= \"10.0\"\n",
      "  Downloading pyobjc_framework_CoreWLAN-7.3-cp36-abi3-macosx_10_9_x86_64.whl (8.3 kB)\n",
      "Collecting pyobjc-framework-ExceptionHandling==7.3\n",
      "  Downloading pyobjc_framework_ExceptionHandling-7.3-py2.py3-none-any.whl (7.4 kB)\n",
      "Collecting pyobjc-framework-MetalPerformanceShaders==7.3; platform_release >= \"17.0\"\n",
      "  Downloading pyobjc_framework_MetalPerformanceShaders-7.3-cp36-abi3-macosx_10_9_x86_64.whl (17 kB)\n",
      "Collecting pyobjc-framework-CoreText==7.3\n",
      "  Downloading pyobjc_framework_CoreText-7.3-cp38-cp38-macosx_10_9_x86_64.whl (24 kB)\n",
      "Collecting pyobjc-framework-DiskArbitration==7.3\n",
      "  Downloading pyobjc_framework_DiskArbitration-7.3-py2.py3-none-any.whl (4.3 kB)\n",
      "Collecting pyobjc-framework-Metal==7.3; platform_release >= \"15.0\"\n",
      "  Downloading pyobjc_framework_Metal-7.3-cp36-abi3-macosx_10_9_x86_64.whl (27 kB)\n",
      "Collecting pyobjc-framework-InstallerPlugins==7.3\n",
      "  Downloading pyobjc_framework_InstallerPlugins-7.3-py2.py3-none-any.whl (4.3 kB)\n",
      "Collecting pyobjc-framework-LaunchServices==7.3\n",
      "  Downloading pyobjc_framework_LaunchServices-7.3-py2.py3-none-any.whl (3.3 kB)\n",
      "Collecting pyobjc-framework-VideoSubscriberAccount==7.3; platform_release >= \"18.0\"\n",
      "  Downloading pyobjc_framework_VideoSubscriberAccount-7.3-py2.py3-none-any.whl (3.7 kB)\n",
      "Collecting pyobjc-framework-SceneKit==7.3; platform_release >= \"11.0\"\n",
      "  Downloading pyobjc_framework_SceneKit-7.3-cp36-abi3-macosx_10_9_x86_64.whl (20 kB)\n",
      "Collecting pyobjc-framework-EventKit==7.3; platform_release >= \"12.0\"\n",
      "  Downloading pyobjc_framework_EventKit-7.3-py2.py3-none-any.whl (5.6 kB)\n",
      "Collecting pyobjc-framework-CoreData==7.3\n",
      "  Downloading pyobjc_framework_CoreData-7.3-cp36-abi3-macosx_10_9_x86_64.whl (12 kB)\n",
      "Collecting pyobjc-framework-NetFS==7.3; platform_release >= \"10.0\"\n",
      "  Downloading pyobjc_framework_NetFS-7.3-py2.py3-none-any.whl (3.7 kB)\n",
      "Collecting pyobjc-framework-GameKit==7.3; platform_release >= \"12.0\"\n",
      "  Downloading pyobjc_framework_GameKit-7.3-cp36-abi3-macosx_10_9_x86_64.whl (15 kB)\n",
      "Collecting pyobjc-framework-CoreAudio==7.3\n",
      "  Downloading pyobjc_framework_CoreAudio-7.3-cp38-cp38-macosx_10_9_x86_64.whl (24 kB)\n",
      "Collecting pyobjc-framework-Security==7.3\n",
      "  Downloading pyobjc_framework_Security-7.3-cp38-cp38-macosx_10_9_x86_64.whl (30 kB)\n",
      "Collecting pyobjc-framework-Accessibility==7.3; platform_release >= \"20.0\"\n",
      "  Downloading pyobjc_framework_Accessibility-7.3-cp36-abi3-macosx_10_9_x86_64.whl (5.4 kB)\n",
      "Collecting pyobjc-framework-UserNotificationsUI==7.3; platform_release >= \"20.0\"\n",
      "  Downloading pyobjc_framework_UserNotificationsUI-7.3-py2.py3-none-any.whl (3.3 kB)\n"
     ]
    },
    {
     "name": "stdout",
     "output_type": "stream",
     "text": [
      "Collecting pyobjc-framework-ExecutionPolicy==7.3; platform_release >= \"19.0\"\n",
      "  Downloading pyobjc_framework_ExecutionPolicy-7.3-py2.py3-none-any.whl (3.2 kB)\n",
      "Collecting pyobjc-framework-CoreHaptics==7.3; platform_release >= \"19.0\"\n",
      "  Downloading pyobjc_framework_CoreHaptics-7.3-py2.py3-none-any.whl (4.4 kB)\n",
      "Collecting pyobjc-framework-Intents==7.3; platform_release >= \"16.0\"\n",
      "  Downloading pyobjc_framework_Intents-7.3-cp36-abi3-macosx_10_9_x86_64.whl (18 kB)\n",
      "Collecting pyobjc-framework-DVDPlayback==7.3\n",
      "  Downloading pyobjc_framework_DVDPlayback-7.3-py2.py3-none-any.whl (7.6 kB)\n",
      "Collecting pyobjc-framework-CoreAudioKit==7.3\n",
      "  Downloading pyobjc_framework_CoreAudioKit-7.3-cp36-abi3-macosx_10_9_x86_64.whl (5.7 kB)\n",
      "Collecting pyobjc-framework-GameCenter==7.3; platform_release >= \"12.0\"\n",
      "  Downloading pyobjc_framework_GameCenter-7.3-cp36-abi3-macosx_10_9_x86_64.whl (12 kB)\n",
      "Collecting pyobjc-framework-AppleScriptObjC==7.3; platform_release >= \"10.0\"\n",
      "  Downloading pyobjc_framework_AppleScriptObjC-7.3-py2.py3-none-any.whl (3.9 kB)\n",
      "Collecting pyobjc-framework-ServiceManagement==7.3; platform_release >= \"10.0\"\n",
      "  Downloading pyobjc_framework_ServiceManagement-7.3-py2.py3-none-any.whl (4.5 kB)\n",
      "Collecting pyobjc-framework-DiscRecording==7.3\n",
      "  Downloading pyobjc_framework_DiscRecording-7.3-cp36-abi3-macosx_10_9_x86_64.whl (12 kB)\n",
      "Collecting pyobjc-framework-Virtualization==7.3; platform_release >= \"20.0\"\n",
      "  Downloading pyobjc_framework_Virtualization-7.3-cp36-abi3-macosx_10_9_x86_64.whl (6.2 kB)\n",
      "Collecting pyobjc-framework-CoreMedia==7.3; platform_release >= \"11.0\"\n",
      "  Downloading pyobjc_framework_CoreMedia-7.3-cp38-cp38-macosx_10_9_x86_64.whl (19 kB)\n",
      "Collecting pyobjc-framework-MediaLibrary==7.3; platform_release >= \"13.0\"\n",
      "  Downloading pyobjc_framework_MediaLibrary-7.3-py2.py3-none-any.whl (3.7 kB)\n",
      "Collecting pyobjc-framework-AdServices==7.3; platform_release >= \"20.0\"\n",
      "  Downloading pyobjc_framework_AdServices-7.3-py2.py3-none-any.whl (2.9 kB)\n",
      "Collecting pyobjc-framework-Accounts==7.3; platform_release >= \"12.0\"\n",
      "  Downloading pyobjc_framework_Accounts-7.3-py2.py3-none-any.whl (4.5 kB)\n",
      "Collecting pyobjc-framework-ReplayKit==7.3; platform_release >= \"20.0\"\n",
      "  Downloading pyobjc_framework_ReplayKit-7.3-cp36-abi3-macosx_10_9_x86_64.whl (7.0 kB)\n",
      "Collecting pyobjc-framework-SyncServices==7.3\n",
      "  Downloading pyobjc_framework_SyncServices-7.3-cp36-abi3-macosx_10_9_x86_64.whl (10 kB)\n",
      "Collecting pyobjc-framework-NotificationCenter==7.3; platform_release >= \"14.0\"\n",
      "  Downloading pyobjc_framework_NotificationCenter-7.3-cp36-abi3-macosx_10_9_x86_64.whl (7.4 kB)\n",
      "Collecting pyobjc-framework-BusinessChat==7.3; platform_release >= \"18.0\"\n",
      "  Downloading pyobjc_framework_BusinessChat-7.3-py2.py3-none-any.whl (2.9 kB)\n",
      "Collecting pyobjc-framework-UniformTypeIdentifiers==7.3; platform_release >= \"20.0\"\n",
      "  Downloading pyobjc_framework_UniformTypeIdentifiers-7.3-py2.py3-none-any.whl (3.9 kB)\n",
      "Collecting pyobjc-framework-CoreServices==7.3\n",
      "  Downloading pyobjc_framework_CoreServices-7.3-cp36-abi3-macosx_10_9_x86_64.whl (27 kB)\n",
      "Collecting pyobjc-framework-OSAKit==7.3\n",
      "  Downloading pyobjc_framework_OSAKit-7.3-py2.py3-none-any.whl (3.5 kB)\n",
      "Collecting pyobjc-framework-CoreLocation==7.3; platform_release >= \"10.0\"\n",
      "  Downloading pyobjc_framework_CoreLocation-7.3-cp36-abi3-macosx_10_9_x86_64.whl (9.2 kB)\n",
      "Collecting pyobjc-framework-MultipeerConnectivity==7.3; platform_release >= \"14.0\"\n",
      "  Downloading pyobjc_framework_MultipeerConnectivity-7.3-cp36-abi3-macosx_10_9_x86_64.whl (9.0 kB)\n",
      "Collecting pyobjc-framework-SearchKit==7.3\n",
      "  Downloading pyobjc_framework_SearchKit-7.3-py2.py3-none-any.whl (3.3 kB)\n",
      "Collecting pyobjc-framework-ColorSync==7.3; platform_release >= \"17.0\"\n",
      "  Downloading pyobjc_framework_ColorSync-7.3-py2.py3-none-any.whl (5.3 kB)\n",
      "Collecting pyobjc-framework-OpenDirectory==7.3; platform_release >= \"10.0\"\n",
      "  Downloading pyobjc_framework_OpenDirectory-7.3-py2.py3-none-any.whl (11 kB)\n",
      "Collecting pyobjc-framework-Collaboration==7.3; platform_release >= \"9.0\"\n",
      "  Downloading pyobjc_framework_Collaboration-7.3-py2.py3-none-any.whl (4.4 kB)\n",
      "Collecting pyobjc-framework-SecurityFoundation==7.3\n",
      "  Downloading pyobjc_framework_SecurityFoundation-7.3-py2.py3-none-any.whl (3.1 kB)\n",
      "Collecting pyobjc-framework-PhotosUI==7.3; platform_release >= \"15.0\"\n",
      "  Downloading pyobjc_framework_PhotosUI-7.3-cp36-abi3-macosx_10_9_x86_64.whl (7.9 kB)\n",
      "Collecting pyobjc-framework-CoreBluetooth==7.3; platform_release >= \"14.0\"\n",
      "  Downloading pyobjc_framework_CoreBluetooth-7.3-cp36-abi3-macosx_10_9_x86_64.whl (9.9 kB)\n",
      "Collecting pyobjc-framework-QuickLookThumbnailing==7.3; platform_release >= \"19.0\"\n",
      "  Downloading pyobjc_framework_QuickLookThumbnailing-7.3-py2.py3-none-any.whl (3.5 kB)\n",
      "Collecting pyobjc-framework-Vision==7.3; platform_release >= \"17.0\"\n",
      "  Downloading pyobjc_framework_Vision-7.3-cp36-abi3-macosx_10_9_x86_64.whl (9.6 kB)\n",
      "Collecting pyobjc-framework-NetworkExtension==7.3; platform_release >= \"15.0\"\n",
      "  Downloading pyobjc_framework_NetworkExtension-7.3-cp36-abi3-macosx_10_9_x86_64.whl (10 kB)\n",
      "Collecting pyobjc-framework-AuthenticationServices==7.3; platform_release >= \"19.0\"\n",
      "  Downloading pyobjc_framework_AuthenticationServices-7.3-cp36-abi3-macosx_10_9_x86_64.whl (8.6 kB)\n",
      "Collecting pyobjc-framework-AutomaticAssessmentConfiguration==7.3; platform_release >= \"19.0\"\n",
      "  Downloading pyobjc_framework_AutomaticAssessmentConfiguration-7.3-cp36-abi3-macosx_10_9_x86_64.whl (6.2 kB)\n",
      "Collecting pyobjc-framework-CryptoTokenKit==7.3; platform_release >= \"14.0\"\n",
      "  Downloading pyobjc_framework_CryptoTokenKit-7.3-cp36-abi3-macosx_10_9_x86_64.whl (9.4 kB)\n",
      "Collecting pyobjc-framework-SecurityInterface==7.3\n",
      "  Downloading pyobjc_framework_SecurityInterface-7.3-cp36-abi3-macosx_10_9_x86_64.whl (7.8 kB)\n",
      "Collecting pyobjc-framework-CoreML==7.3; platform_release >= \"17.0\"\n",
      "  Downloading pyobjc_framework_CoreML-7.3-cp36-abi3-macosx_10_9_x86_64.whl (8.3 kB)\n",
      "Collecting pyobjc-framework-CoreSpotlight==7.3; platform_release >= \"17.0\"\n",
      "  Downloading pyobjc_framework_CoreSpotlight-7.3-cp36-abi3-macosx_10_9_x86_64.whl (7.1 kB)\n",
      "Collecting pyobjc-framework-MediaToolbox==7.3; platform_release >= \"13.0\"\n",
      "  Downloading pyobjc_framework_MediaToolbox-7.3-cp36-abi3-macosx_10_9_x86_64.whl (8.4 kB)\n",
      "Collecting pyobjc-framework-GameController==7.3; platform_release >= \"13.0\"\n",
      "  Downloading pyobjc_framework_GameController-7.3-cp36-abi3-macosx_10_9_x86_64.whl (8.7 kB)\n",
      "Collecting pyobjc-framework-libdispatch==7.3; platform_release >= \"12.0\"\n",
      "  Downloading pyobjc_framework_libdispatch-7.3-cp38-cp38-macosx_10_9_x86_64.whl (12 kB)\n",
      "Collecting pyobjc-framework-CloudKit==7.3; platform_release >= \"14.0\"\n",
      "  Downloading pyobjc_framework_CloudKit-7.3-py2.py3-none-any.whl (7.2 kB)\n",
      "Collecting pyobjc-framework-SystemConfiguration==7.3\n",
      "  Downloading pyobjc_framework_SystemConfiguration-7.3-cp36-abi3-macosx_10_9_x86_64.whl (17 kB)\n",
      "Collecting pyobjc-framework-SafariServices==7.3; platform_release >= \"15.0\"\n",
      "  Downloading pyobjc_framework_SafariServices-7.3-cp36-abi3-macosx_10_9_x86_64.whl (6.0 kB)\n",
      "Collecting pyobjc-framework-CoreMotion==7.3; platform_release >= \"19.0\"\n",
      "  Downloading pyobjc_framework_CoreMotion-7.3-py2.py3-none-any.whl (4.4 kB)\n",
      "Collecting pyobjc-framework-Photos==7.3; platform_release >= \"15.0\"\n",
      "  Downloading pyobjc_framework_Photos-7.3-cp36-abi3-macosx_10_9_x86_64.whl (9.1 kB)\n",
      "Collecting pyobjc-framework-FinderSync==7.3; platform_release >= \"14.0\"\n",
      "  Downloading pyobjc_framework_FinderSync-7.3-py2.py3-none-any.whl (4.3 kB)\n",
      "Collecting pyobjc-framework-CallKit==7.3; platform_release >= \"20.0\"\n",
      "  Downloading pyobjc_framework_CallKit-7.3-py2.py3-none-any.whl (4.2 kB)\n",
      "Collecting pyobjc-framework-CFNetwork==7.3\n",
      "  Downloading pyobjc_framework_CFNetwork-7.3-cp36-abi3-macosx_10_9_x86_64.whl (12 kB)\n",
      "Collecting pyobjc-framework-ClassKit==7.3; platform_release >= \"20.0\"\n",
      "  Downloading pyobjc_framework_ClassKit-7.3-cp36-abi3-macosx_10_9_x86_64.whl (6.1 kB)\n",
      "Collecting pyobjc-framework-InputMethodKit==7.3; platform_release >= \"9.0\"\n",
      "  Downloading pyobjc_framework_InputMethodKit-7.3-cp36-abi3-macosx_10_9_x86_64.whl (7.7 kB)\n",
      "Collecting pyobjc-framework-DeviceCheck==7.3; platform_release >= \"19.0\"\n",
      "  Downloading pyobjc_framework_DeviceCheck-7.3-py2.py3-none-any.whl (3.1 kB)\n",
      "Collecting pyobjc-framework-UserNotifications==7.3; platform_release >= \"18.0\"\n"
     ]
    },
    {
     "name": "stdout",
     "output_type": "stream",
     "text": [
      "  Downloading pyobjc_framework_UserNotifications-7.3-cp36-abi3-macosx_10_9_x86_64.whl (7.1 kB)\n",
      "Collecting pyobjc-framework-FSEvents==7.3; platform_release >= \"9.0\"\n",
      "  Downloading pyobjc_framework_FSEvents-7.3-cp36-abi3-macosx_10_9_x86_64.whl (9.1 kB)\n",
      "Collecting pyobjc-framework-IMServicePlugIn==7.3; platform_release >= \"11.0\"\n",
      "  Downloading pyobjc_framework_IMServicePlugIn-7.3-cp36-abi3-macosx_10_9_x86_64.whl (9.7 kB)\n",
      "Collecting pyobjc-framework-DictionaryServices==7.3; platform_release >= \"9.0\"\n",
      "  Downloading pyobjc_framework_DictionaryServices-7.3-py2.py3-none-any.whl (3.4 kB)\n",
      "Collecting pyobjc-framework-Automator==7.3\n",
      "  Downloading pyobjc_framework_Automator-7.3-py2.py3-none-any.whl (5.0 kB)\n",
      "Collecting pyobjc-framework-FileProviderUI==7.3; platform_release >= \"19.0\"\n",
      "  Downloading pyobjc_framework_FileProviderUI-7.3-py2.py3-none-any.whl (3.1 kB)\n",
      "Collecting pyobjc-framework-WebKit==7.3\n",
      "  Downloading pyobjc_framework_WebKit-7.3-cp36-abi3-macosx_10_9_x86_64.whl (28 kB)\n",
      "Collecting pyobjc-framework-PassKit==7.3; platform_release >= \"20.0\"\n",
      "  Downloading pyobjc_framework_PassKit-7.3-cp36-abi3-macosx_10_9_x86_64.whl (8.7 kB)\n",
      "Collecting pyobjc-framework-AppTrackingTransparency==7.3; platform_release >= \"20.0\"\n",
      "  Downloading pyobjc_framework_AppTrackingTransparency-7.3-py2.py3-none-any.whl (3.2 kB)\n",
      "Collecting pyobjc-framework-ContactsUI==7.3; platform_release >= \"15.0\"\n",
      "  Downloading pyobjc_framework_ContactsUI-7.3-cp36-abi3-macosx_10_9_x86_64.whl (5.9 kB)\n",
      "Collecting pyobjc-framework-ScreenSaver==7.3\n",
      "  Downloading pyobjc_framework_ScreenSaver-7.3-cp36-abi3-macosx_10_9_x86_64.whl (6.2 kB)\n",
      "Collecting pyobjc-framework-PreferencePanes==7.3\n",
      "  Downloading pyobjc_framework_PreferencePanes-7.3-py2.py3-none-any.whl (4.2 kB)\n",
      "Collecting pyobjc-framework-iTunesLibrary==7.3; platform_release >= \"10.0\"\n",
      "  Downloading pyobjc_framework_iTunesLibrary-7.3-py2.py3-none-any.whl (4.5 kB)\n",
      "Collecting pyobjc-framework-SystemExtensions==7.3; platform_release >= \"19.0\"\n",
      "  Downloading pyobjc_framework_SystemExtensions-7.3-cp36-abi3-macosx_10_9_x86_64.whl (6.4 kB)\n",
      "Collecting pyobjc-framework-CoreMediaIO==7.3; platform_release >= \"11.0\"\n",
      "  Downloading pyobjc_framework_CoreMediaIO-7.3-cp36-abi3-macosx_10_9_x86_64.whl (10 kB)\n",
      "Collecting pyobjc-framework-ScriptingBridge==7.3; platform_release >= \"9.0\"\n",
      "  Downloading pyobjc_framework_ScriptingBridge-7.3-cp36-abi3-macosx_10_9_x86_64.whl (6.8 kB)\n",
      "Collecting pyobjc-core==7.3\n",
      "  Downloading pyobjc_core-7.3-cp38-cp38-macosx_10_9_x86_64.whl (293 kB)\n",
      "\u001b[K     |████████████████████████████████| 293 kB 310 kB/s eta 0:00:01\n",
      "\u001b[?25hCollecting pyobjc-framework-Speech==7.3; platform_release >= \"19.0\"\n",
      "  Downloading pyobjc_framework_Speech-7.3-cp36-abi3-macosx_10_9_x86_64.whl (6.6 kB)\n",
      "Collecting pyobjc-framework-ScreenTime==7.3; platform_release >= \"20.0\"\n",
      "  Downloading pyobjc_framework_ScreenTime-7.3-py2.py3-none-any.whl (3.1 kB)\n",
      "Collecting pyobjc-framework-PushKit==7.3; platform_release >= \"19.0\"\n",
      "  Downloading pyobjc_framework_PushKit-7.3-cp36-abi3-macosx_10_9_x86_64.whl (6.1 kB)\n",
      "Collecting pyobjc-framework-AVFoundation==7.3; platform_release >= \"11.0\"\n",
      "  Downloading pyobjc_framework_AVFoundation-7.3-cp36-abi3-macosx_10_9_x86_64.whl (39 kB)\n",
      "Collecting pyobjc-framework-IOSurface==7.3; platform_release >= \"10.0\"\n",
      "  Downloading pyobjc_framework_IOSurface-7.3-py2.py3-none-any.whl (4.2 kB)\n",
      "Collecting pyobjc-framework-AdSupport==7.3; platform_release >= \"18.0\"\n",
      "  Downloading pyobjc_framework_AdSupport-7.3-py2.py3-none-any.whl (2.9 kB)\n",
      "Installing collected packages: pyobjc-core, pyobjc-framework-Cocoa, pyobjc-framework-AppleScriptKit, pyobjc-framework-LatentSemanticMapping, pyobjc-framework-MLCompute, pyobjc-framework-Metal, pyobjc-framework-MetalKit, pyobjc-framework-Quartz, pyobjc-framework-ModelIO, pyobjc-framework-CoreMedia, pyobjc-framework-AVFoundation, pyobjc-framework-MediaPlayer, pyobjc-framework-MetalPerformanceShaders, pyobjc-framework-MetalPerformanceShadersGraph, pyobjc-framework-LinkPresentation, pyobjc-framework-Security, pyobjc-framework-LocalAuthentication, pyobjc-framework-PencilKit, pyobjc-framework-SpriteKit, pyobjc-framework-Contacts, pyobjc-framework-DiscRecording, pyobjc-framework-DiscRecordingUI, pyobjc-framework-AVKit, pyobjc-framework-StoreKit, pyobjc-framework-ApplicationServices, pyobjc-framework-Social, pyobjc-framework-VideoToolbox, pyobjc-framework-CalendarStore, pyobjc-framework-AddressBook, pyobjc-framework-NaturalLanguage, pyobjc-framework-MediaAccessibility, pyobjc-framework-ImageCaptureCore, pyobjc-framework-SoundAnalysis, pyobjc-framework-Network, pyobjc-framework-FileProvider, pyobjc-framework-ExternalAccessory, pyobjc-framework-OSLog, pyobjc-framework-GameplayKit, pyobjc-framework-KernelManagement, pyobjc-framework-CoreLocation, pyobjc-framework-MapKit, pyobjc-framework-CoreMIDI, pyobjc-framework-InstantMessage, pyobjc-framework-CoreWLAN, pyobjc-framework-ExceptionHandling, pyobjc-framework-CoreText, pyobjc-framework-DiskArbitration, pyobjc-framework-InstallerPlugins, pyobjc-framework-FSEvents, pyobjc-framework-CoreServices, pyobjc-framework-LaunchServices, pyobjc-framework-VideoSubscriberAccount, pyobjc-framework-SceneKit, pyobjc-framework-EventKit, pyobjc-framework-CoreData, pyobjc-framework-NetFS, pyobjc-framework-GameKit, pyobjc-framework-CoreAudio, pyobjc-framework-Accessibility, pyobjc-framework-UserNotifications, pyobjc-framework-UserNotificationsUI, pyobjc-framework-ExecutionPolicy, pyobjc-framework-CoreHaptics, pyobjc-framework-Intents, pyobjc-framework-DVDPlayback, pyobjc-framework-CoreAudioKit, pyobjc-framework-GameCenter, pyobjc-framework-AppleScriptObjC, pyobjc-framework-ServiceManagement, pyobjc-framework-Virtualization, pyobjc-framework-MediaLibrary, pyobjc-framework-AdServices, pyobjc-framework-Accounts, pyobjc-framework-ReplayKit, pyobjc-framework-SyncServices, pyobjc-framework-NotificationCenter, pyobjc-framework-BusinessChat, pyobjc-framework-UniformTypeIdentifiers, pyobjc-framework-OSAKit, pyobjc-framework-MultipeerConnectivity, pyobjc-framework-SearchKit, pyobjc-framework-ColorSync, pyobjc-framework-OpenDirectory, pyobjc-framework-Collaboration, pyobjc-framework-SecurityFoundation, pyobjc-framework-PhotosUI, pyobjc-framework-CoreBluetooth, pyobjc-framework-QuickLookThumbnailing, pyobjc-framework-CoreML, pyobjc-framework-Vision, pyobjc-framework-NetworkExtension, pyobjc-framework-AuthenticationServices, pyobjc-framework-AutomaticAssessmentConfiguration, pyobjc-framework-CryptoTokenKit, pyobjc-framework-SecurityInterface, pyobjc-framework-CoreSpotlight, pyobjc-framework-MediaToolbox, pyobjc-framework-GameController, pyobjc-framework-libdispatch, pyobjc-framework-CloudKit, pyobjc-framework-SystemConfiguration, pyobjc-framework-SafariServices, pyobjc-framework-CoreMotion, pyobjc-framework-Photos, pyobjc-framework-FinderSync, pyobjc-framework-CallKit, pyobjc-framework-CFNetwork, pyobjc-framework-ClassKit, pyobjc-framework-InputMethodKit, pyobjc-framework-DeviceCheck, pyobjc-framework-IMServicePlugIn, pyobjc-framework-DictionaryServices, pyobjc-framework-Automator, pyobjc-framework-FileProviderUI, pyobjc-framework-WebKit, pyobjc-framework-PassKit, pyobjc-framework-AppTrackingTransparency, pyobjc-framework-ContactsUI, pyobjc-framework-ScreenSaver, pyobjc-framework-PreferencePanes, pyobjc-framework-iTunesLibrary, pyobjc-framework-SystemExtensions, pyobjc-framework-CoreMediaIO, pyobjc-framework-ScriptingBridge, pyobjc-framework-Speech, pyobjc-framework-ScreenTime, pyobjc-framework-PushKit, pyobjc-framework-IOSurface, pyobjc-framework-AdSupport, pyobjc, pyttsx3\n",
      "Successfully installed pyobjc-7.3 pyobjc-core-7.3 pyobjc-framework-AVFoundation-7.3 pyobjc-framework-AVKit-7.3 pyobjc-framework-Accessibility-7.3 pyobjc-framework-Accounts-7.3 pyobjc-framework-AdServices-7.3 pyobjc-framework-AdSupport-7.3 pyobjc-framework-AddressBook-7.3 pyobjc-framework-AppTrackingTransparency-7.3 pyobjc-framework-AppleScriptKit-7.3 pyobjc-framework-AppleScriptObjC-7.3 pyobjc-framework-ApplicationServices-7.3 pyobjc-framework-AuthenticationServices-7.3 pyobjc-framework-AutomaticAssessmentConfiguration-7.3 pyobjc-framework-Automator-7.3 pyobjc-framework-BusinessChat-7.3 pyobjc-framework-CFNetwork-7.3 pyobjc-framework-CalendarStore-7.3 pyobjc-framework-CallKit-7.3 pyobjc-framework-ClassKit-7.3 pyobjc-framework-CloudKit-7.3 pyobjc-framework-Cocoa-7.3 pyobjc-framework-Collaboration-7.3 pyobjc-framework-ColorSync-7.3 pyobjc-framework-Contacts-7.3 pyobjc-framework-ContactsUI-7.3 pyobjc-framework-CoreAudio-7.3 pyobjc-framework-CoreAudioKit-7.3 pyobjc-framework-CoreBluetooth-7.3 pyobjc-framework-CoreData-7.3 pyobjc-framework-CoreHaptics-7.3 pyobjc-framework-CoreLocation-7.3 pyobjc-framework-CoreMIDI-7.3 pyobjc-framework-CoreML-7.3 pyobjc-framework-CoreMedia-7.3 pyobjc-framework-CoreMediaIO-7.3 pyobjc-framework-CoreMotion-7.3 pyobjc-framework-CoreServices-7.3 pyobjc-framework-CoreSpotlight-7.3 pyobjc-framework-CoreText-7.3 pyobjc-framework-CoreWLAN-7.3 pyobjc-framework-CryptoTokenKit-7.3 pyobjc-framework-DVDPlayback-7.3 pyobjc-framework-DeviceCheck-7.3 pyobjc-framework-DictionaryServices-7.3 pyobjc-framework-DiscRecording-7.3 pyobjc-framework-DiscRecordingUI-7.3 pyobjc-framework-DiskArbitration-7.3 pyobjc-framework-EventKit-7.3 pyobjc-framework-ExceptionHandling-7.3 pyobjc-framework-ExecutionPolicy-7.3 pyobjc-framework-ExternalAccessory-7.3 pyobjc-framework-FSEvents-7.3 pyobjc-framework-FileProvider-7.3 pyobjc-framework-FileProviderUI-7.3 pyobjc-framework-FinderSync-7.3 pyobjc-framework-GameCenter-7.3 pyobjc-framework-GameController-7.3 pyobjc-framework-GameKit-7.3 pyobjc-framework-GameplayKit-7.3 pyobjc-framework-IMServicePlugIn-7.3 pyobjc-framework-IOSurface-7.3 pyobjc-framework-ImageCaptureCore-7.3 pyobjc-framework-InputMethodKit-7.3 pyobjc-framework-InstallerPlugins-7.3 pyobjc-framework-InstantMessage-7.3 pyobjc-framework-Intents-7.3 pyobjc-framework-KernelManagement-7.3 pyobjc-framework-LatentSemanticMapping-7.3 pyobjc-framework-LaunchServices-7.3 pyobjc-framework-LinkPresentation-7.3 pyobjc-framework-LocalAuthentication-7.3 pyobjc-framework-MLCompute-7.3 pyobjc-framework-MapKit-7.3 pyobjc-framework-MediaAccessibility-7.3 pyobjc-framework-MediaLibrary-7.3 pyobjc-framework-MediaPlayer-7.3 pyobjc-framework-MediaToolbox-7.3 pyobjc-framework-Metal-7.3 pyobjc-framework-MetalKit-7.3 pyobjc-framework-MetalPerformanceShaders-7.3 pyobjc-framework-MetalPerformanceShadersGraph-7.3 pyobjc-framework-ModelIO-7.3 pyobjc-framework-MultipeerConnectivity-7.3 pyobjc-framework-NaturalLanguage-7.3 pyobjc-framework-NetFS-7.3 pyobjc-framework-Network-7.3 pyobjc-framework-NetworkExtension-7.3 pyobjc-framework-NotificationCenter-7.3 pyobjc-framework-OSAKit-7.3 pyobjc-framework-OSLog-7.3 pyobjc-framework-OpenDirectory-7.3 pyobjc-framework-PassKit-7.3 pyobjc-framework-PencilKit-7.3 pyobjc-framework-Photos-7.3 pyobjc-framework-PhotosUI-7.3 pyobjc-framework-PreferencePanes-7.3 pyobjc-framework-PushKit-7.3 pyobjc-framework-Quartz-7.3 pyobjc-framework-QuickLookThumbnailing-7.3 pyobjc-framework-ReplayKit-7.3 pyobjc-framework-SafariServices-7.3 pyobjc-framework-SceneKit-7.3 pyobjc-framework-ScreenSaver-7.3 pyobjc-framework-ScreenTime-7.3 pyobjc-framework-ScriptingBridge-7.3 pyobjc-framework-SearchKit-7.3 pyobjc-framework-Security-7.3 pyobjc-framework-SecurityFoundation-7.3 pyobjc-framework-SecurityInterface-7.3 pyobjc-framework-ServiceManagement-7.3 pyobjc-framework-Social-7.3 pyobjc-framework-SoundAnalysis-7.3 pyobjc-framework-Speech-7.3 pyobjc-framework-SpriteKit-7.3 pyobjc-framework-StoreKit-7.3 pyobjc-framework-SyncServices-7.3 pyobjc-framework-SystemConfiguration-7.3 pyobjc-framework-SystemExtensions-7.3 pyobjc-framework-UniformTypeIdentifiers-7.3 pyobjc-framework-UserNotifications-7.3 pyobjc-framework-UserNotificationsUI-7.3 pyobjc-framework-VideoSubscriberAccount-7.3 pyobjc-framework-VideoToolbox-7.3 pyobjc-framework-Virtualization-7.3 pyobjc-framework-Vision-7.3 pyobjc-framework-WebKit-7.3 pyobjc-framework-iTunesLibrary-7.3 pyobjc-framework-libdispatch-7.3 pyttsx3-2.90\n"
     ]
    }
   ],
   "source": [
    "!pip install pyttsx3"
   ]
  },
  {
   "cell_type": "code",
   "execution_count": 57,
   "metadata": {},
   "outputs": [],
   "source": [
    "%config Completer.use_jedi = False"
   ]
  },
  {
   "cell_type": "code",
   "execution_count": 51,
   "metadata": {},
   "outputs": [],
   "source": [
    "from pydub import AudioSegment\n",
    "import sox\n",
    "import librosa\n",
    "import wave\n",
    "from scipy.io import wavfile\n",
    "import sounddevice as sd\n",
    "import soundfile as sf\n",
    "import time\n",
    "import pyttsx3\n",
    "import numpy as np\n",
    "import matplotlib.pyplot as plt\n",
    "from scipy.io.wavfile import read, write\n",
    "from IPython.display import Audio\n",
    "from numpy.fft import fft, ifft\n",
    "%matplotlib inline\n",
    "import scipy"
   ]
  },
  {
   "cell_type": "code",
   "execution_count": 9,
   "metadata": {},
   "outputs": [],
   "source": [
    "data1 = AudioSegment.from_wav(\"test1.wav\")"
   ]
  },
  {
   "cell_type": "code",
   "execution_count": 7,
   "metadata": {},
   "outputs": [],
   "source": [
    "data2 = AudioSegment.from_wav(\"test2.wav\")"
   ]
  },
  {
   "cell_type": "code",
   "execution_count": 8,
   "metadata": {},
   "outputs": [
    {
     "data": {
      "text/html": [
       "\n",
       "                    <audio controls>\n",
       "                        <source src=\"data:audio/mpeg;base64,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\" type=\"audio/mpeg\"/>\n",
       "                        Your browser does not support the audio element.\n",
       "                    </audio>\n",
       "                  "
      ],
      "text/plain": [
       "<pydub.audio_segment.AudioSegment at 0x7fc12985bbb0>"
      ]
     },
     "execution_count": 8,
     "metadata": {},
     "output_type": "execute_result"
    }
   ],
   "source": [
    "data2"
   ]
  },
  {
   "cell_type": "code",
   "execution_count": 10,
   "metadata": {},
   "outputs": [],
   "source": [
    "data3 = AudioSegment.from_wav(\"test3.wav\")"
   ]
  },
  {
   "cell_type": "code",
   "execution_count": 11,
   "metadata": {},
   "outputs": [
    {
     "data": {
      "text/html": [
       "\n",
       "                    <audio controls>\n",
       "                        <source src=\"data:audio/mpeg;base64,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\" type=\"audio/mpeg\"/>\n",
       "                        Your browser does not support the audio element.\n",
       "                    </audio>\n",
       "                  "
      ],
      "text/plain": [
       "<pydub.audio_segment.AudioSegment at 0x7fc12985b9d0>"
      ]
     },
     "execution_count": 11,
     "metadata": {},
     "output_type": "execute_result"
    }
   ],
   "source": [
    "data3"
   ]
  },
  {
   "cell_type": "code",
   "execution_count": 16,
   "metadata": {},
   "outputs": [],
   "source": [
    "y, sr = librosa.load('test1.wav')"
   ]
  },
  {
   "cell_type": "code",
   "execution_count": 18,
   "metadata": {},
   "outputs": [],
   "source": [
    "w_data1=wave.open('test1.wav', mode='rb')"
   ]
  },
  {
   "cell_type": "code",
   "execution_count": 22,
   "metadata": {},
   "outputs": [],
   "source": [
    "fs, s_data_1 = wavfile.read('test1.wav')"
   ]
  },
  {
   "cell_type": "code",
   "execution_count": 23,
   "metadata": {},
   "outputs": [
    {
     "data": {
      "text/plain": [
       "array([ 8,  8,  8, ..., -8, -8, -8], dtype=int16)"
      ]
     },
     "execution_count": 23,
     "metadata": {},
     "output_type": "execute_result"
    }
   ],
   "source": [
    "s_data_1"
   ]
  },
  {
   "cell_type": "markdown",
   "metadata": {},
   "source": [
    "## II. Manipulate files "
   ]
  },
  {
   "cell_type": "markdown",
   "metadata": {},
   "source": [
    "- Combine files: take in one.wav and two.wav to make three.wav"
   ]
  },
  {
   "cell_type": "code",
   "execution_count": 27,
   "metadata": {
    "scrolled": true
   },
   "outputs": [
    {
     "name": "stdout",
     "output_type": "stream",
     "text": [
      "zsh:1: command not found: sox\r\n"
     ]
    }
   ],
   "source": [
    "!sox test1.wav test2.wav test.wav"
   ]
  },
  {
   "cell_type": "code",
   "execution_count": null,
   "metadata": {},
   "outputs": [],
   "source": []
  },
  {
   "cell_type": "code",
   "execution_count": null,
   "metadata": {},
   "outputs": [],
   "source": []
  },
  {
   "cell_type": "code",
   "execution_count": null,
   "metadata": {},
   "outputs": [],
   "source": []
  },
  {
   "cell_type": "code",
   "execution_count": null,
   "metadata": {},
   "outputs": [],
   "source": []
  },
  {
   "cell_type": "code",
   "execution_count": 32,
   "metadata": {},
   "outputs": [
    {
     "name": "stdout",
     "output_type": "stream",
     "text": [
      "{'name': 'Ngoc’s AirPods', 'hostapi': 0, 'max_input_channels': 1, 'max_output_channels': 0, 'default_low_input_latency': 0.178, 'default_low_output_latency': 0.01, 'default_high_input_latency': 0.206, 'default_high_output_latency': 0.1, 'default_samplerate': 16000.0}\n",
      "{'name': 'Ngoc’s AirPods', 'hostapi': 0, 'max_input_channels': 0, 'max_output_channels': 2, 'default_low_input_latency': 0.01, 'default_low_output_latency': 0.16733333333333333, 'default_high_input_latency': 0.1, 'default_high_output_latency': 0.17666666666666667, 'default_samplerate': 48000.0}\n",
      "{'name': 'MacBook Pro Micrô', 'hostapi': 0, 'max_input_channels': 1, 'max_output_channels': 0, 'default_low_input_latency': 0.034520833333333334, 'default_low_output_latency': 0.01, 'default_high_input_latency': 0.043854166666666666, 'default_high_output_latency': 0.1, 'default_samplerate': 48000.0}\n",
      "{'name': 'Loa MacBook Pro', 'hostapi': 0, 'max_input_channels': 0, 'max_output_channels': 2, 'default_low_input_latency': 0.01, 'default_low_output_latency': 0.0070416666666666666, 'default_high_input_latency': 0.1, 'default_high_output_latency': 0.016375, 'default_samplerate': 48000.0}\n"
     ]
    }
   ],
   "source": [
    "mics=sd.query_devices() \n",
    "for i in range(len(mics)): \n",
    "\tprint(mics[i])"
   ]
  },
  {
   "cell_type": "code",
   "execution_count": 36,
   "metadata": {},
   "outputs": [],
   "source": [
    "duration = 10\n",
    "fs = 10000\n",
    "channels = 1\n",
    "myrecording = sd.rec(int(duration * fs), samplerate=fs, channels=channels) \n",
    "sd.wait()\n",
    "sf.write('sync_record.wav', myrecording, fs)"
   ]
  },
  {
   "cell_type": "code",
   "execution_count": 44,
   "metadata": {},
   "outputs": [],
   "source": [
    "engine = pyttsx3.init() \n",
    "engine.say(\"I love you very much\") \n",
    "engine.runAndWait()"
   ]
  },
  {
   "cell_type": "code",
   "execution_count": 45,
   "metadata": {},
   "outputs": [],
   "source": [
    "x, sr = librosa.load('test1.wav')"
   ]
  },
  {
   "cell_type": "code",
   "execution_count": 49,
   "metadata": {},
   "outputs": [],
   "source": [
    "freqs = np.fft.fftfreq(y.size)\n",
    "\n",
    "def describe_freq(freqs):\n",
    "    mean = np.mean(freqs)\n",
    "    std = np.std(freqs) \n",
    "    maxv = np.amax(freqs) \n",
    "    minv = np.amin(freqs) \n",
    "    median = np.median(freqs)\n",
    "    skew = scipy.stats.skew(freqs)\n",
    "    kurt = scipy.stats.kurtosis(freqs)\n",
    "    q1 = np.quantile(freqs, 0.25)\n",
    "    q3 = np.quantile(freqs, 0.75)\n",
    "    mode = scipy.stats.mode(freqs)[0][0]\n",
    "    iqr = scipy.stats.iqr(freqs)\n",
    "    \n",
    "    return [mean, std, maxv, minv, median, skew, kurt, q1, q3, mode, iqr]"
   ]
  },
  {
   "cell_type": "code",
   "execution_count": 52,
   "metadata": {},
   "outputs": [
    {
     "data": {
      "text/plain": [
       "[-6.767919e-05,\n",
       " 0.06057845,\n",
       " 0.8909219,\n",
       " -1.0230628,\n",
       " 0.0005608357,\n",
       " -1.5327012538909912,\n",
       " 17.186635211617666,\n",
       " -0.009401044808328152,\n",
       " 0.016137802973389626,\n",
       " -0.00024414062,\n",
       " 0.025538847781717777]"
      ]
     },
     "execution_count": 52,
     "metadata": {},
     "output_type": "execute_result"
    }
   ],
   "source": [
    "describe_freq(x)"
   ]
  },
  {
   "cell_type": "code",
   "execution_count": 53,
   "metadata": {},
   "outputs": [
    {
     "data": {
      "text/plain": [
       "DescribeResult(nobs=3344985, minmax=(-1.0230628, 0.8909219), mean=-6.767919e-05, variance=0.0036697497, skewness=-1.5327012538909912, kurtosis=17.186635211617666)"
      ]
     },
     "execution_count": 53,
     "metadata": {},
     "output_type": "execute_result"
    }
   ],
   "source": [
    "scipy.stats.describe(x)"
   ]
  },
  {
   "cell_type": "code",
   "execution_count": 61,
   "metadata": {},
   "outputs": [],
   "source": [
    "# The energy of a signal is the total magnitude of the signal, i.e. how loud the signal is\n",
    "def energy(x):\n",
    "    return np.sum(x**2)"
   ]
  },
  {
   "cell_type": "code",
   "execution_count": 62,
   "metadata": {},
   "outputs": [],
   "source": [
    "def rmse(x):\n",
    "    return np.sqrt(np.mean(x**2))"
   ]
  },
  {
   "cell_type": "code",
   "execution_count": 58,
   "metadata": {},
   "outputs": [],
   "source": [
    "rmse = librosa.feature.rms(x)[0]"
   ]
  },
  {
   "cell_type": "code",
   "execution_count": 59,
   "metadata": {},
   "outputs": [
    {
     "data": {
      "text/plain": [
       "array([0.14294598, 0.14226553, 0.14721823, ..., 0.00154444, 0.00102161,\n",
       "       0.00024408], dtype=float32)"
      ]
     },
     "execution_count": 59,
     "metadata": {},
     "output_type": "execute_result"
    }
   ],
   "source": [
    "rmse"
   ]
  },
  {
   "cell_type": "code",
   "execution_count": 63,
   "metadata": {},
   "outputs": [
    {
     "data": {
      "text/plain": [
       "0.0605785"
      ]
     },
     "execution_count": 63,
     "metadata": {},
     "output_type": "execute_result"
    }
   ],
   "source": [
    "rmse(x)"
   ]
  },
  {
   "cell_type": "code",
   "execution_count": null,
   "metadata": {},
   "outputs": [],
   "source": []
  }
 ],
 "metadata": {
  "kernelspec": {
   "display_name": "Python 3",
   "language": "python",
   "name": "python3"
  },
  "language_info": {
   "codemirror_mode": {
    "name": "ipython",
    "version": 3
   },
   "file_extension": ".py",
   "mimetype": "text/x-python",
   "name": "python",
   "nbconvert_exporter": "python",
   "pygments_lexer": "ipython3",
   "version": "3.8.5"
  }
 },
 "nbformat": 4,
 "nbformat_minor": 4
}
